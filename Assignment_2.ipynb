{
  "nbformat": 4,
  "nbformat_minor": 0,
  "metadata": {
    "colab": {
      "name": "Assignment 2.ipynb",
      "provenance": []
    },
    "kernelspec": {
      "name": "python3",
      "display_name": "Python 3"
    },
    "language_info": {
      "name": "python"
    }
  },
  "cells": [
    {
      "cell_type": "markdown",
      "metadata": {
        "id": "d9z8kSezhg9B"
      },
      "source": [
        "#**Assignment 2**"
      ]
    },
    {
      "cell_type": "markdown",
      "metadata": {
        "id": "zNM0QZ1Ahv8S"
      },
      "source": [
        "Referral Id-SIRSS2223\n",
        "\n",
        "Name-Aishwarya Rajesh Rule\n",
        "\n",
        "College-Shah and Anchor Kutchhi Engineering College"
      ]
    },
    {
      "cell_type": "markdown",
      "metadata": {
        "id": "sNjqIMl-NNkN"
      },
      "source": [
        "Q1. Write a lambda expression to extract first word of a string."
      ]
    },
    {
      "cell_type": "code",
      "metadata": {
        "colab": {
          "base_uri": "https://localhost:8080/",
          "height": 52
        },
        "id": "u4jCZeLtNFxj",
        "outputId": "28682232-58a0-4e50-a4a9-eeff89ed49a8"
      },
      "source": [
        "in_str=input(\"Enter a String:\")\n",
        "out_str=lambda str1:str1.split(\" \")[0]\n",
        "out_str(in_str)"
      ],
      "execution_count": 36,
      "outputs": [
        {
          "output_type": "stream",
          "text": [
            "Enter a String:Aishwarya Rule\n"
          ],
          "name": "stdout"
        },
        {
          "output_type": "execute_result",
          "data": {
            "application/vnd.google.colaboratory.intrinsic+json": {
              "type": "string"
            },
            "text/plain": [
              "'Aishwarya'"
            ]
          },
          "metadata": {
            "tags": []
          },
          "execution_count": 36
        }
      ]
    },
    {
      "cell_type": "markdown",
      "metadata": {
        "id": "t_GNVnM4RA2f"
      },
      "source": [
        "Q2. Write a function to extract first word of s string (with many words separated by space)."
      ]
    },
    {
      "cell_type": "code",
      "metadata": {
        "colab": {
          "base_uri": "https://localhost:8080/",
          "height": 52
        },
        "id": "uvxzZRlrO4r2",
        "outputId": "5f1138d2-c72a-436f-e713-db98a7e2a97b"
      },
      "source": [
        "def extract_first_word(s):\n",
        "  return s.split(\" \")[0]\n",
        "\n",
        "in_str=input(\"Enter a string:\")\n",
        "extract_first_word(in_str)"
      ],
      "execution_count": 37,
      "outputs": [
        {
          "output_type": "stream",
          "text": [
            "Enter a string:Hey there, how are you?\n"
          ],
          "name": "stdout"
        },
        {
          "output_type": "execute_result",
          "data": {
            "application/vnd.google.colaboratory.intrinsic+json": {
              "type": "string"
            },
            "text/plain": [
              "'Hey'"
            ]
          },
          "metadata": {
            "tags": []
          },
          "execution_count": 37
        }
      ]
    },
    {
      "cell_type": "markdown",
      "metadata": {
        "id": "cTBVpuCBTCId"
      },
      "source": [
        "Q3. Extract the first word from every string from a list of strings by using map function."
      ]
    },
    {
      "cell_type": "code",
      "metadata": {
        "colab": {
          "base_uri": "https://localhost:8080/"
        },
        "id": "1cLlmWHkStzB",
        "outputId": "3172d61d-7f29-43f2-8232-414590576f4f"
      },
      "source": [
        "n=int(input(\"Enter number of strings to be checked:\"))\n",
        "ls=[]\n",
        "for i in range(0,n):\n",
        "  new_str=input()\n",
        "  ls.append(new_str)\n",
        "\n",
        "map_first=list(map(lambda in_str:in_str.split(\" \")[0], ls))\n",
        "map_first"
      ],
      "execution_count": 38,
      "outputs": [
        {
          "output_type": "stream",
          "text": [
            "Enter number of strings to be checked:4\n",
            "Hey there\n",
            "Aishwarya Rule\n",
            "How are you\n",
            "Wht r u doin\n"
          ],
          "name": "stdout"
        },
        {
          "output_type": "execute_result",
          "data": {
            "text/plain": [
              "['Hey', 'Aishwarya', 'How', 'Wht']"
            ]
          },
          "metadata": {
            "tags": []
          },
          "execution_count": 38
        }
      ]
    },
    {
      "cell_type": "markdown",
      "metadata": {
        "id": "Yrhd_UuHUotS"
      },
      "source": [
        "Q4. Write a function to return a list of prime factors of a given number."
      ]
    },
    {
      "cell_type": "code",
      "metadata": {
        "colab": {
          "base_uri": "https://localhost:8080/"
        },
        "id": "zmhIhKN2UOpS",
        "outputId": "3a93127b-d9fa-4b7c-ef79-7425ee0d478d"
      },
      "source": [
        "#Function to check if a number n is prime\n",
        "def is_prime(n):\n",
        "  for i in range(2,n):\n",
        "    if n%i==0:\n",
        "      return False\n",
        "  else:\n",
        "    return True\n",
        "\n",
        "#Function to find the list of prime numbers till num\n",
        "def prime_list(num):\n",
        "  list_prime=[]\n",
        "  for i in range(2,num):\n",
        "    if (is_prime(i)):\n",
        "      list_prime.append(i)\n",
        "  return list_prime\n",
        "\n",
        "in1=int(input(\"Enter a number:\"))\n",
        "list1=prime_list(in1)\n",
        "out1=[]\n",
        "for k in list1:\n",
        "  if in1%k==0:\n",
        "    out1.append(k)\n",
        "\n",
        "print(f\"Prime factors of {in1} are {out1}\")"
      ],
      "execution_count": 39,
      "outputs": [
        {
          "output_type": "stream",
          "text": [
            "Enter a number:45\n",
            "Prime factors of 45 are [3, 5]\n"
          ],
          "name": "stdout"
        }
      ]
    },
    {
      "cell_type": "markdown",
      "metadata": {
        "id": "Gsxt7rmHXG3E"
      },
      "source": [
        "Q5. Write a function that finds 2nd largest among 4 numbers (Repetitions are allowed,\n",
        "without sorting)."
      ]
    },
    {
      "cell_type": "code",
      "metadata": {
        "colab": {
          "base_uri": "https://localhost:8080/"
        },
        "id": "pwQeXbmoXL3g",
        "outputId": "ea99bd49-4eca-4adf-89c9-0379d2832072"
      },
      "source": [
        "#Method1: Using two lists and max()\n",
        "list1=[]\n",
        "for i in range(0,4):\n",
        "  inp1=int(input(f\"Enter {i}th element:\"))\n",
        "  list1.append(inp1)\n",
        "\n",
        "list2=list1\n",
        "list1.remove(max(list1))\n",
        "sec_l=max(list1)\n",
        "list1.remove(sec_l)\n",
        "print(f\"Second largest element is {sec_l}\")"
      ],
      "execution_count": 40,
      "outputs": [
        {
          "output_type": "stream",
          "text": [
            "Enter 0th element:56\n",
            "Enter 1th element:67\n",
            "Enter 2th element:86\n",
            "Enter 3th element:74\n",
            "Second largest element is 74\n"
          ],
          "name": "stdout"
        }
      ]
    },
    {
      "cell_type": "code",
      "metadata": {
        "colab": {
          "base_uri": "https://localhost:8080/"
        },
        "id": "3JLsO2rde214",
        "outputId": "bde62555-581a-4c36-9712-5ede8cb4f6eb"
      },
      "source": [
        "#Method2: By comparing the elements with first maximum and second maximum\n",
        "list1=[]\n",
        "for i in range(0,4):\n",
        "  inp1=int(input(\"Enter element:\"))\n",
        "  list1.append(inp1)\n",
        "\n",
        "f_max=max(list1[0],list1[1])\n",
        "s_max=min(list1[0],list1[1])\n",
        "for i in range(2,len(list1)):\n",
        "  if list1[i]>f_max:\n",
        "    s_max=f_max\n",
        "    f_max=list1[i]\n",
        "  elif list1[i]>s_max and list1[i]!=f_max:\n",
        "    s_max=list1[i]\n",
        "\n",
        "print(f\"Second largest element is {s_max}\")"
      ],
      "execution_count": 41,
      "outputs": [
        {
          "output_type": "stream",
          "text": [
            "Enter element:56\n",
            "Enter element:67\n",
            "Enter element:87\n",
            "Enter element:87\n",
            "Second largest element is 67\n"
          ],
          "name": "stdout"
        }
      ]
    },
    {
      "cell_type": "code",
      "metadata": {
        "id": "kVNfiGu-lBks"
      },
      "source": [
        "67"
      ],
      "execution_count": null,
      "outputs": []
    }
  ]
}